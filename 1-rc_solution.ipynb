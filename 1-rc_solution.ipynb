{
 "cells": [
  {
   "cell_type": "markdown",
   "metadata": {},
   "source": [
    "## River Crossing – Solution\n",
    "\n",
    "We now define the `Node` class for the missionaries and cannibals problem based on the \"infrastructure for search algorithms\" shown in Section 3.3.1 of R&N (2016). Note that the arguments `parent_node` and `action` are **not** needed to implement the breadth-first-search if the only goal is to reach the goal state. However, if we want to compute one actual path from start to goal (that is, without redundant nodes that were explored during search), we can write a function that recursively checks for the parent node of the goal node. Such a function is shown at the end of the notebook."
   ]
  },
  {
   "cell_type": "code",
   "execution_count": 1,
   "metadata": {},
   "outputs": [],
   "source": [
    "import numpy as np"
   ]
  },
  {
   "cell_type": "code",
   "execution_count": 2,
   "metadata": {
    "scrolled": true
   },
   "outputs": [],
   "source": [
    "class Node:\n",
    "    def __init__(self, m_wrong_side, c_wrong_side, boat_wrong_side, parent_node):\n",
    "        self.m_wrong_side = m_wrong_side\n",
    "        self.c_wrong_side = c_wrong_side\n",
    "        self.boat_wrong_side = boat_wrong_side\n",
    "        self.parent_node = parent_node\n",
    "        \n",
    "        # Storing all three position arguments again in an array is sort of redundant but will\n",
    "        # simplify a lot of the following code, especially the addition and substraction of \"actions\".\n",
    "        self.state = np.array([self.m_wrong_side, self.c_wrong_side, self.boat_wrong_side])\n",
    "\n",
    "    def is_goal_state(self):\n",
    "        # Returns a boolean. True, if all m, c, and the boat are on the right side.\n",
    "        return np.all(self.state == 0)\n",
    "\n",
    "    def get_child_node(self, action):\n",
    "        if self.boat_wrong_side == 1:\n",
    "            new_state = self.state - action\n",
    "        elif self.boat_wrong_side == 0:\n",
    "            new_state = self.state + action\n",
    "        else:\n",
    "            raise ValueError('\"boat_wrong_side\" has to be either 0 or 1.')\n",
    "        child_node = Node(new_state[0], new_state[1], new_state[2], parent_node=self)\n",
    "        return child_node\n",
    "\n",
    "    def is_valid(self):\n",
    "        if 0 <= self.m_wrong_side <= 3 \\\n",
    "            and 0 <= self.c_wrong_side <= 3 \\\n",
    "            and (self.m_wrong_side == 0 or self.c_wrong_side <= self.m_wrong_side) \\\n",
    "            and (self.m_wrong_side == 3 or self.c_wrong_side >= self.m_wrong_side):\n",
    "                return True\n",
    "        else:\n",
    "            return False\n",
    "        \n",
    "    def __eq__(self, other):\n",
    "        # Define how to check equality between Node objects. \n",
    "        # This is useful to check, for example, whether an object is in a set or not.\n",
    "        return np.array_equal(self.state, other.state)\n",
    "    \n",
    "    def __hash__(self):\n",
    "        # User-defined objects are hashable by default. However, when defining an __eq__() method,\n",
    "        # one needs to define a new hash function as well. See, for example,\n",
    "        # https://stackoverflow.com/a/29434112\n",
    "        # We can just hash the state. Note that the value that we are trying to hash (self.state)\n",
    "        # is mutable because it is a np.array. Hash values need to be immutable; we thus transform\n",
    "        # the np.array into a tuple before hashing.\n",
    "        return hash(tuple(self.state))\n",
    "\n",
    "    def __str__(self):\n",
    "        # Define how the node is printed\n",
    "        return (\"Node <\" + str(self.m_wrong_side) + \",\" +\n",
    "                           str(self.c_wrong_side) + \",\" +\n",
    "                           str(self.boat_wrong_side) + \">\")\n",
    "    "
   ]
  },
  {
   "cell_type": "markdown",
   "metadata": {},
   "source": [
    "The `Game` class implements the actual breadth-first search and stores the possible actions as well as the initial node."
   ]
  },
  {
   "cell_type": "code",
   "execution_count": 3,
   "metadata": {},
   "outputs": [],
   "source": [
    "class Game:\n",
    "    def __init__(self):\n",
    "        self.initial_node = Node(m_wrong_side=3, c_wrong_side=3, boat_wrong_side=1, \n",
    "                                 parent_node=\"initial\")\n",
    "        self.actions = [np.array([1, 0, 1]),\n",
    "                        np.array([2, 0, 1]),\n",
    "                        np.array([0, 1, 1]),\n",
    "                        np.array([0, 2, 1]),\n",
    "                        np.array([1, 1, 1])]\n",
    "\n",
    "    def breadth_first_search(self):\n",
    "        if self.initial_node.is_goal_state():\n",
    "            return self.initial_node\n",
    "\n",
    "        frontier = []\n",
    "        frontier.append(self.initial_node)\n",
    "        explored = set()\n",
    "\n",
    "        while True:\n",
    "            if len(frontier) == 0:\n",
    "                return \"Failure\"\n",
    "            # FIFO: get first element\n",
    "            node = frontier.pop(0)\n",
    "            explored.add(node)\n",
    "            print(\"Exploring\", node, \"...\")\n",
    "            for action in self.actions:  \n",
    "                child = node.get_child_node(action)\n",
    "                if child.is_valid() and (child not in explored) and (child not in frontier):\n",
    "                    if child.is_goal_state():\n",
    "                        return child\n",
    "                    frontier.append(child)"
   ]
  },
  {
   "cell_type": "code",
   "execution_count": 4,
   "metadata": {},
   "outputs": [
    {
     "name": "stdout",
     "output_type": "stream",
     "text": [
      "Exploring Node <3,3,1> ...\n",
      "Exploring Node <3,2,0> ...\n",
      "Exploring Node <3,1,0> ...\n",
      "Exploring Node <2,2,0> ...\n",
      "Exploring Node <3,2,1> ...\n",
      "Exploring Node <3,0,0> ...\n",
      "Exploring Node <3,1,1> ...\n",
      "Exploring Node <1,1,0> ...\n",
      "Exploring Node <2,2,1> ...\n",
      "Exploring Node <0,2,0> ...\n",
      "Exploring Node <0,3,1> ...\n",
      "Exploring Node <0,1,0> ...\n",
      "Exploring Node <1,1,1> ...\n",
      "Found goal state Node <0,0,0>\n"
     ]
    }
   ],
   "source": [
    "g = Game()\n",
    "goal_state = g.breadth_first_search()\n",
    "print(\"Found goal state\", goal_state)"
   ]
  },
  {
   "cell_type": "markdown",
   "metadata": {},
   "source": [
    "This implementation of BFS could be made more efficient, for example, by _not_ exploring the action that was applied to the parent node to generate the node. The current algorithm unnecessarily computes the parent node of each node although this one is already known and in the `explored` set!"
   ]
  },
  {
   "cell_type": "markdown",
   "metadata": {},
   "source": [
    "### Extracting the path to the goal state\n",
    "\n",
    "Note that the breadth-first search executed above explored nodes that were \"dead ends\" and are not actually part of the path to the goal node. We can extract this path by recursively accessing the parent node, starting with the goal node."
   ]
  },
  {
   "cell_type": "code",
   "execution_count": 5,
   "metadata": {
    "scrolled": false
   },
   "outputs": [
    {
     "name": "stdout",
     "output_type": "stream",
     "text": [
      "Goal node: Node <0,0,0>\n",
      "--> Node <1,1,1>\n",
      "--> Node <0,1,0>\n",
      "--> Node <0,3,1>\n",
      "--> Node <0,2,0>\n",
      "--> Node <2,2,1>\n",
      "--> Node <1,1,0>\n",
      "--> Node <3,1,1>\n",
      "--> Node <3,0,0>\n",
      "--> Node <3,2,1>\n",
      "--> Node <3,1,0>\n",
      "--> Node <3,3,1>\n"
     ]
    }
   ],
   "source": [
    "def find_path_to_start(goal_node):\n",
    "    # Recursively check parent node(s) of the goal_node\n",
    "    def get_parent_node(node):\n",
    "        parent_node = node.parent_node\n",
    "        print(\"-->\", parent_node)\n",
    "        if isinstance(parent_node.parent_node, str) and parent_node.parent_node == \"initial\":\n",
    "            return parent_node\n",
    "        else:\n",
    "            get_parent_node(parent_node) \n",
    "    \n",
    "    print(\"Goal node:\", goal_node)\n",
    "    start_node = get_parent_node(goal_node)\n",
    "    return start_node\n",
    "    \n",
    "start_node = find_path_to_start(goal_state)   "
   ]
  },
  {
   "cell_type": "markdown",
   "metadata": {},
   "source": [
    "$<3,3,1>$ is indeed the start node. We found a path of depth 11 using breadth-first search. "
   ]
  }
 ],
 "metadata": {
  "kernelspec": {
   "display_name": "Python 3.6",
   "language": "python",
   "name": "python3"
  },
  "language_info": {
   "codemirror_mode": {
    "name": "ipython",
    "version": 3
   },
   "file_extension": ".py",
   "mimetype": "text/x-python",
   "name": "python",
   "nbconvert_exporter": "python",
   "pygments_lexer": "ipython3",
   "version": "3.8.0"
  }
 },
 "nbformat": 4,
 "nbformat_minor": 2
}
